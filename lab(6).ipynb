{
 "cells": [
  {
   "cell_type": "code",
   "execution_count": 3,
   "metadata": {},
   "outputs": [
    {
     "name": "stdout",
     "output_type": "stream",
     "text": [
      "No valid phone number found.\n"
     ]
    }
   ],
   "source": [
    "import re\n",
    "\n",
    "def find_phone_number(text):\n",
    "    \n",
    "    # Defining the regular expression pattern for a valid phone number\n",
    "    pattern = r\"\\(\\d{3}\\)-\\d{3}-\\d{4}|\\d{3}-\\d{3}-\\d{4}\"\n",
    "    \n",
    "    # Checking if the phone number matches the pattern\n",
    "    match = re.search(pattern, text)\n",
    "    if match:\n",
    "        return match.group()\n",
    "    else:\n",
    "        return \"No valid phone number found.\"\n",
    "\n",
    "str = input(\"Please enter a phone number : \")\n",
    "phone_number = find_phone_number(str)\n",
    "print(phone_number)"
   ]
  },
  {
   "cell_type": "code",
   "execution_count": 4,
   "metadata": {},
   "outputs": [
    {
     "name": "stdout",
     "output_type": "stream",
     "text": [
      "You've a strong password.\n"
     ]
    }
   ],
   "source": [
    "import re\n",
    "\n",
    "def check_password_strength(password):\n",
    "    \n",
    "    # Defining the regular expression pattern for a strong password\n",
    "    pattern = r\"^(?=.*[a-z])(?=.*[A-Z])(?=.*\\d)(?=.*[@$!%*?&])[A-Za-z\\d@$!%*?&]{8,}$\"\n",
    "    \n",
    "    # Checking if the password matches the pattern\n",
    "    if re.match(pattern, password):\n",
    "        return True\n",
    "    else:\n",
    "        return False\n",
    "    \n",
    "password = input(\"Enter your password : \")\n",
    "if check_password_strength(password):\n",
    "    print(\"You've a strong password.\")\n",
    "else:\n",
    "    print(\"Your password is not strong.\")"
   ]
  }
 ],
 "metadata": {
  "kernelspec": {
   "display_name": "Python 3",
   "language": "python",
   "name": "python3"
  },
  "language_info": {
   "codemirror_mode": {
    "name": "ipython",
    "version": 3
   },
   "file_extension": ".py",
   "mimetype": "text/x-python",
   "name": "python",
   "nbconvert_exporter": "python",
   "pygments_lexer": "ipython3",
   "version": "3.11.4"
  },
  "orig_nbformat": 4
 },
 "nbformat": 4,
 "nbformat_minor": 2
}
